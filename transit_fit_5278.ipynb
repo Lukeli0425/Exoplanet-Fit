{
 "cells": [
  {
   "cell_type": "code",
   "execution_count": 13,
   "metadata": {},
   "outputs": [],
   "source": [
    "import os\n",
    "import sys\n",
    "import juliet\n",
    "import numpy as np\n",
    "import pandas as pd\n",
    "import matplotlib.pyplot as plt\n",
    "import matplotlib.gridspec as gridspec\n",
    "import pickle\n",
    "import glob\n",
    "import lightkurve as lk\n",
    "\n",
    "%matplotlib inline"
   ]
  },
  {
   "cell_type": "code",
   "execution_count": 14,
   "metadata": {},
   "outputs": [],
   "source": [
    "contr = 0.042967\n",
    "p1 = 0.4354341  # period in days\n",
    "perr1 = .0000009  # error on period in days\n",
    "tc1 = 2459664.03251  # transit midpoint in full JD unit (begins with 24xxxxx)\n",
    "tcerr1 = .0005296  # transit midpoint in days"
   ]
  },
  {
   "cell_type": "markdown",
   "metadata": {},
   "source": [
    "### Load Photometry Data"
   ]
  },
  {
   "cell_type": "code",
   "execution_count": 15,
   "metadata": {},
   "outputs": [
    {
     "name": "stdout",
     "output_type": "stream",
     "text": [
      "           time      flux  flux_err\n",
      "0  59713.174262  0.110806  0.001761\n",
      "1  59713.184147  0.109541  0.001699\n",
      "2  59713.189911  0.108790  0.001681\n",
      "3  59713.195675  0.108549  0.001640\n",
      "4  59713.201439  0.108909  0.001599\n"
     ]
    }
   ],
   "source": [
    "photo_file = './photometry_data/TOI-5278-B.csv'\n",
    "df = pd.read_csv(photo_file)\n",
    "print(df.head())\n",
    "t = np.array(df['time'])\n",
    "flux = np.array(df['flux'])\n",
    "flux_err = np.array(df['flux_err'])\n",
    "\n",
    "flux, flux_err = flux/flux.mean(), flux_err/flux.mean() # normalize flux\n",
    "\n",
    "times, fluxes, fluxes_error = {},{},{}\n",
    "times['TESS'], fluxes['TESS'], fluxes_error['TESS'] = t, flux, flux_err"
   ]
  },
  {
   "cell_type": "markdown",
   "metadata": {},
   "source": [
    "### Transit Fit"
   ]
  },
  {
   "cell_type": "code",
   "execution_count": 16,
   "metadata": {},
   "outputs": [
    {
     "name": "stdout",
     "output_type": "stream",
     "text": [
      "PyMultinest installation not detected. Forcing dynesty as the sampler.\n"
     ]
    },
    {
     "name": "stderr",
     "output_type": "stream",
     "text": [
      "2935it [00:10, 282.89it/s, +500 | bound: 15 | nc: 1 | ncall: 50232 | eff(%):  6.907 | loglstar:   -inf < 37.597 <    inf | logz: 32.540 +/-  0.086 | dlogz:  0.001 >  0.509]\n"
     ]
    }
   ],
   "source": [
    "dataset = juliet.load(priors='./transit_fit_5278/priors.txt', \\\n",
    "                      t_lc = times, y_lc = fluxes, \\\n",
    "                      yerr_lc = fluxes_error, out_folder = './transit_fit_5278')\n",
    "\n",
    "results = dataset.fit()"
   ]
  },
  {
   "cell_type": "code",
   "execution_count": 17,
   "metadata": {},
   "outputs": [
    {
     "data": {
      "image/png": "[encoded data removed]",
      "text/plain": [
       "<Figure size 1080x432 with 2 Axes>"
      ]
     },
     "metadata": {
      "needs_background": "light"
     },
     "output_type": "display_data"
    }
   ],
   "source": [
    "# Extract transit model prediction given the data:\n",
    "transit_model = results.lc.evaluate('TESS')\n",
    "\n",
    "# Plot results:\n",
    "fig = plt.figure(figsize=(15,6))\n",
    "gs = gridspec.GridSpec(1, 2, width_ratios=[2,1])\n",
    "ax1 = plt.subplot(gs[0])\n",
    "\n",
    "# Plot time v/s flux plot:\n",
    "ax1.errorbar(dataset.times_lc['TESS'], dataset.data_lc['TESS'], \\\n",
    "         yerr = dataset.errors_lc['TESS'], fmt = '.', alpha = 0.1)\n",
    "\n",
    "# now plot the model\n",
    "ax1.plot(dataset.times_lc['TESS'], transit_model,color='black',zorder=10)\n",
    "\n",
    "ax1.set_ylim([0.97,1.03])\n",
    "ax1.set_xlabel('Time (BJD - 2457000)')\n",
    "ax1.set_ylabel('Relative flux')\n",
    "\n",
    "# Now phased transit lightcurve:\n",
    "phases = juliet.utils.get_phases(t, p1, tc1)\n",
    "ax2 = plt.subplot(gs[1])\n",
    "ax2.errorbar(phases, dataset.data_lc['TESS'], \\\n",
    "             yerr = dataset.errors_lc['TESS'], fmt = '.', alpha = 0.1)\n",
    "idx = np.argsort(phases)\n",
    "ax2.plot(phases[idx],transit_model[idx], color='black', zorder=10)\n",
    "ax2.yaxis.set_major_formatter(plt.NullFormatter())\n",
    "# ax2.set_xlim([-0.018,0.018])\n",
    "ax2.set_ylim([0.97,1.03])\n",
    "ax2.set_xlabel('Phases')\n",
    "plt.show()"
   ]
  }
 ],
 "metadata": {
  "kernelspec": {
   "display_name": "Python 3.8.12 ('astro')",
   "language": "python",
   "name": "python3"
  },
  "language_info": {
   "codemirror_mode": {
    "name": "ipython",
    "version": 3
   },
   "file_extension": ".py",
   "mimetype": "text/x-python",
   "name": "python",
   "nbconvert_exporter": "python",
   "pygments_lexer": "ipython3",
   "version": "3.8.12"
  },
  "orig_nbformat": 4,
  "vscode": {
   "interpreter": {
    "hash": "5b961726f24694b6f17f740f2c5030ec25616772daf73a312ff6748a00a3f54b"
   }
  }
 },
 "nbformat": 4,
 "nbformat_minor": 2
}
