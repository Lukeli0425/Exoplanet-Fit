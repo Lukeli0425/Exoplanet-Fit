{
 "cells": [
  {
   "cell_type": "markdown",
   "metadata": {},
   "source": [
    "# Example Transit Lightcurve Fitting with Juliet\n",
    "# TOI 652b\n",
    "### ObsAstro BONUS task for Group 1\n",
    "\n",
    "by Tianjun Gan and Sharon Xuesong Wang\\\n",
    "v1 July 2020\\\n",
    "v2 for ET workshop, December 2020\n",
    "v3 for ObsAstro Spring 2022, May 2022\n",
    "\n",
    "Please see the imports below for package dependencies.\\\n",
    "I highly recommend installing MultiNest to speed things up!"
   ]
  },
  {
   "cell_type": "markdown",
   "metadata": {},
   "source": [
    "### Install Juliet\n",
    "\n",
    "You probably need to install juliet. MultiNest is recommended, but dynesty is enough.\n",
    "\n",
    "If the pip installation doesn't work for you, you can also download its github package and use python to install it, following the instructions here:\\\n",
    "https://juliet.readthedocs.io/en/latest/user/installation.html"
   ]
  },
  {
   "cell_type": "code",
   "execution_count": 392,
   "metadata": {},
   "outputs": [],
   "source": [
    "# Uncomment this to install juliet, or do it in your terminal\n",
    "import sys\n",
    "# !{sys.executable} -m pip install juliet"
   ]
  },
  {
   "cell_type": "code",
   "execution_count": 393,
   "metadata": {},
   "outputs": [],
   "source": [
    "import numpy as np\n",
    "import juliet\n",
    "import matplotlib.pyplot as plt\n",
    "%matplotlib inline\n",
    "import matplotlib.gridspec as gridspec\n",
    "import pickle\n",
    "import glob\n",
    "import lightkurve as lk"
   ]
  },
  {
   "cell_type": "code",
   "execution_count": 394,
   "metadata": {},
   "outputs": [],
   "source": [
    "# Basic constants\n",
    "tesst0 = 2457000.0  # BJD offset for TESS timestamps"
   ]
  },
  {
   "cell_type": "code",
   "execution_count": 395,
   "metadata": {},
   "outputs": [],
   "source": [
    "# Function to wrap around juliet's get_TESS_data function to deal with multiple TESS sectors\n",
    "def juliet_get_tess_data(lkf):\n",
    "    for indf,thisf in enumerate(lkf):\n",
    "        thist,thisf,thisferr = juliet.get_TESS_data(thisf)\n",
    "        if indf == 0:\n",
    "            t,f,ferr = thist,thisf,thisferr\n",
    "        else:\n",
    "            t,f,ferr = np.concatenate((t,thist)), np.concatenate((f,thisf)), \\\n",
    "                np.concatenate((ferr,thisferr))\n",
    "    \n",
    "    return t,f,ferr"
   ]
  },
  {
   "cell_type": "markdown",
   "metadata": {},
   "source": [
    "## Setting up priors from basic planetary parameters\n",
    "\n",
    "### Instruction:\n",
    "\n",
    "1. Open up the target page on ExoFOP:  \n",
    "https://exofop.ipac.caltech.edu/tess/target.php?id=22221375\n",
    "\n",
    "2. Type in the following numbers in the definition below:  \n",
    "TIC Contamination Ratio -> contr  \n",
    "Period of planet 1 -> p1  \n",
    "Error on period of planet 1 -> perr1  \n",
    "Transit epoch of planet 1 -> tc1  \n",
    "Error on transit epoch of planet 1 -> tcerr1  \n",
    "... similarly for subsequent planets in the system.  \n",
    "\n",
    "3. Create priors.txt in all appropriate transit fitting folders, the default naming convention for folders are:  \n",
    "  - transit_fit - Basic transit fit, no detrending.  \n",
    "  - detrending - Fitting GP to detrend, no transit fitting.  \n",
    "  - transit_fit_detrended -After detrending with GP, perform transit fit.\n",
    "  - gp_transit_fit - Joint GP detrending and transit fit.  \n",
    "  \n",
    "  **IMPORTANT NAMING CONVENTION:** Name priors.txt for your input priors. Juliet will copy what it used to generate the results into priors.dat so that you can always replicate exactly what you did without worrying about preserving priors.txt.\n",
    "  \n",
    "  **Format of priors.txt** see Juliet tutorial here:\n",
    "https://juliet.readthedocs.io/en/latest/user/quicktest.html  \n",
    "\n",
    "  **Note:** Be a bit liberal about errors in the priors for planet period and transit epoch. Don't use the error bars from ExoFOP which themselves are from a transit fit!\n",
    "\n",
    "4. Use the code below to figure out what values to put in for priors for t0 and mdilution_TESS, which is the TESS-offset-adjusted transit time and dilution factor for TESS (1 - contamination ratio). Default is to use 10% of the contamination ratio as the prior width for the dilution factor.\n",
    "\n",
    "5. Modify priors.txt appropriately."
   ]
  },
  {
   "cell_type": "code",
   "execution_count": 396,
   "metadata": {},
   "outputs": [],
   "source": [
    "# Fill in numbers from ExoFOP\n",
    "contr = 0.002189\n",
    "p1 = 3.98467677274667  # period in days\n",
    "perr1 = .000010429663  # error on period in days\n",
    "tc1 = 2459272.445528  # transit midpoint in full JD unit (begins with 24xxxxx)\n",
    "tcerr1 = .0022709  # transit midpoint in days"
   ]
  },
  {
   "cell_type": "code",
   "execution_count": 397,
   "metadata": {},
   "outputs": [
    {
     "name": "stdout",
     "output_type": "stream",
     "text": [
      "2272.4455280001275\n",
      "0.997811\n",
      "0.0002189\n",
      "0.01479526951427381\n"
     ]
    }
   ],
   "source": [
    "# Print out needed t0 and mdilution_TESS and its prior width.\n",
    "tc1 -= tesst0\n",
    "print(tc1)\n",
    "print(1.0-contr)\n",
    "print(contr*0.1)\n",
    "\n",
    "# crude estimate on translated Rp/R* fractional error \n",
    "# if too small, fix mdilution_TESS to 1.0\n",
    "print(np.sqrt(contr*0.1)) "
   ]
  },
  {
   "cell_type": "markdown",
   "metadata": {},
   "source": [
    "## Download and load in all TESS LCs"
   ]
  },
  {
   "cell_type": "code",
   "execution_count": 398,
   "metadata": {},
   "outputs": [],
   "source": [
    "# download the lightcurve using lightkurve ;)\n",
    "# Make sure to change the my_dir to the download folder you want!\n",
    "my_dir = './'\n",
    "lkfile = lk.search.search_lightcurvefile('TOI 652', mission='TESS')\n",
    "lkf = lkfile.download_all(download_dir=my_dir)"
   ]
  },
  {
   "cell_type": "code",
   "execution_count": 399,
   "metadata": {},
   "outputs": [
    {
     "name": "stdout",
     "output_type": "stream",
     "text": [
      "['./mastDownload/TESS/tess2019058134432-s0009-0000000022221375-0139-s/tess2019058134432-s0009-0000000022221375-0139-s_lc.fits', './mastDownload/TESS/tess2021039152502-s0035-0000000022221375-0205-s/tess2021039152502-s0035-0000000022221375-0205-s_lc.fits']\n"
     ]
    }
   ],
   "source": [
    "# juliet needs the fits file\n",
    "import os\n",
    "lkf = glob.glob(os.path.join(my_dir, 'mastDownload/*/*/tess*.fits'))\n",
    "print(lkf)"
   ]
  },
  {
   "cell_type": "code",
   "execution_count": 400,
   "metadata": {},
   "outputs": [],
   "source": [
    "t,f,ferr = juliet_get_tess_data(lkf)"
   ]
  },
  {
   "cell_type": "code",
   "execution_count": 401,
   "metadata": {},
   "outputs": [
    {
     "data": {
      "text/plain": [
       "(1544.24067510321, 2279.9834295852534)"
      ]
     },
     "execution_count": 401,
     "metadata": {},
     "output_type": "execute_result"
    },
    {
     "data": {
      "image/png": "[encoded data removed]",
      "text/plain": [
       "<Figure size 432x288 with 1 Axes>"
      ]
     },
     "metadata": {
      "needs_background": "light"
     },
     "output_type": "display_data"
    }
   ],
   "source": [
    "# Put data arrays into dictionaries so we can fit it with juliet:\n",
    "times, fluxes, fluxes_error = {},{},{}\n",
    "times['TESS'], fluxes['TESS'], fluxes_error['TESS'] = t,f,ferr\n",
    "\n",
    "# Plot data:\n",
    "plt.errorbar(t,f, yerr=ferr, fmt='.',alpha=0.2)\n",
    "plt.xlim([np.min(t),np.max(t)])"
   ]
  },
  {
   "cell_type": "markdown",
   "metadata": {},
   "source": [
    "## Need to detrend?\n",
    "\n",
    "If upon visual inspection, the LC needs a detrending, then perform GP fit as below with transits blocked out.\n",
    "\n",
    "You first need to make a text file that stores your priors, and pass this file (and the priors) to juliet. Create a folder in your directory called \"detrending\", and make a priors.txt with contents as follows:\n",
    "\n",
    "mdilution_TESS          fixed                   1.0  \n",
    "mflux_TESS              normal                  0.0,0.1  \n",
    "sigma_w_TESS            loguniform              1e-6,1e6  \n",
    "GP_sigma_TESS           loguniform              1e-6,1e6  \n",
    "GP_rho_TESS             loguniform              1e-3,1e3  "
   ]
  },
  {
   "cell_type": "code",
   "execution_count": 402,
   "metadata": {},
   "outputs": [],
   "source": [
    "# First, block out the transits\n",
    "# Get phases --- identify out-of-transit (oot) times by phasing the data\n",
    "# and selecting all points at absolute phases larger than 0.02:\n",
    "phases = juliet.utils.get_phases(t, p1, tc1)\n",
    "idx_oot = np.where(np.abs(phases)>0.02)[0]\n",
    "# Save the out-of-transit data into dictionaries so we can feed them to juliet:\n",
    "times, fluxes, fluxes_error = {},{},{}\n",
    "times['TESS'], fluxes['TESS'], fluxes_error['TESS'] = t[idx_oot],f[idx_oot],ferr[idx_oot]"
   ]
  },
  {
   "cell_type": "markdown",
   "metadata": {},
   "source": [
    "### Make sure you have the prior file path below correct first!\n",
    "\n",
    "You should have your prior file ready: ./detrending/priors.txt"
   ]
  },
  {
   "cell_type": "code",
   "execution_count": 403,
   "metadata": {},
   "outputs": [],
   "source": [
    "# Perform the juliet fit. Load dataset first (note the GP regressor will be the times):\n",
    "dataset = juliet.load(priors='./detrending/priors.txt', t_lc = times, y_lc = fluxes, \\\n",
    "                      yerr_lc = fluxes_error, GP_regressors_lc = times, \\\n",
    "                      out_folder = './detrending/')"
   ]
  },
  {
   "cell_type": "code",
   "execution_count": 404,
   "metadata": {},
   "outputs": [
    {
     "name": "stdout",
     "output_type": "stream",
     "text": [
      "PyMultinest installation not detected. Forcing dynesty as the sampler.\n",
      "Detected dynesty sampler output files --- extracting from ./detrending/_dynesty_NS_posteriors.pkl\n"
     ]
    }
   ],
   "source": [
    "# Fit:\n",
    "# Need to delete the posteriors.pkl file to re-run the fit.\n",
    "results = dataset.fit()\n",
    "# This took a couple minutes."
   ]
  },
  {
   "cell_type": "code",
   "execution_count": 405,
   "metadata": {},
   "outputs": [
    {
     "data": {
      "text/plain": [
       "(1544.24067510321, 2279.9834295852534)"
      ]
     },
     "execution_count": 405,
     "metadata": {},
     "output_type": "execute_result"
    },
    {
     "data": {
      "image/png": "[encoded data removed]",
      "text/plain": [
       "<Figure size 720x288 with 2 Axes>"
      ]
     },
     "metadata": {
      "needs_background": "light"
     },
     "output_type": "display_data"
    }
   ],
   "source": [
    "# Get model to visually check\n",
    "model_fit = results.lc.evaluate('TESS')\n",
    "\n",
    "# Plot:\n",
    "fig = plt.figure(figsize=(10,4))\n",
    "gs = gridspec.GridSpec(2, 1, height_ratios=[2,1])\n",
    "\n",
    "# First the data and the model on top:\n",
    "ax1 = plt.subplot(gs[0])\n",
    "ax1.errorbar(times['TESS'], fluxes['TESS'], fluxes_error['TESS'],fmt='.',alpha=0.1)\n",
    "ax1.plot(times['TESS'], model_fit, color='black', zorder=100)\n",
    "ax1.set_ylabel('Relative flux')\n",
    "ax1.set_xlim(np.min(times['TESS']),np.max(times['TESS']))\n",
    "ax1.xaxis.set_major_formatter(plt.NullFormatter())\n",
    "\n",
    "# Now the residuals:\n",
    "ax2 = plt.subplot(gs[1])\n",
    "ax2.errorbar(times['TESS'], (fluxes['TESS']-model_fit)*1e6, \\\n",
    "             fluxes_error['TESS']*1e6,fmt='.',alpha=0.1)\n",
    "ax2.set_ylabel('Residuals (ppm)')\n",
    "ax2.set_xlabel('Time (BJD - 2457000)')\n",
    "ax2.set_xlim(np.min(times['TESS']),np.max(times['TESS']))"
   ]
  },
  {
   "cell_type": "code",
   "execution_count": 406,
   "metadata": {},
   "outputs": [],
   "source": [
    "# Get juliet model prediction for the full lightcurve:\n",
    "model_prediction = results.lc.evaluate('TESS', t = t, GPregressors = t)\n",
    "# this is the general trend you want to remove from the TESS light curve\n",
    "\n",
    "# Repopulate dictionaries with new detrended flux:\n",
    "# Think about how you want to detrend the light curve, and scale the errors in flux as well\n",
    "times['TESS'], fluxes['TESS'], fluxes_error['TESS'] = t[idx_oot], (f/model_prediction)[idx_oot], \\\n",
    "            (ferr/model_prediction)[idx_oot]"
   ]
  },
  {
   "cell_type": "code",
   "execution_count": 407,
   "metadata": {},
   "outputs": [
    {
     "name": "stdout",
     "output_type": "stream",
     "text": [
      "False\n"
     ]
    }
   ],
   "source": [
    "fnew = f/model_prediction#(f-model_prediction)/f.mean()\n",
    "print(float('nan') in fnew)"
   ]
  },
  {
   "cell_type": "markdown",
   "metadata": {},
   "source": [
    "## Perform transit fit\n",
    "\n",
    "Perhaps on the detrended LC, as needed per previous section.  \n",
    "All definition of parameters should carry over even if previous section on detrending does not exist.\n",
    "\n",
    "\n",
    "### Set up the priors\n",
    "\n",
    "Just like detrending, you need to set up your priors. This time, it is in the provided priors.txt file (please don't mix this with your detrending prior!). However, you will need to modify a few parameters there in order for the fit to converge easily. Look up the values and their error bars for these parameters below on ExoFOP, and change them in the priors.txt file accordingly:\n",
    "\n",
    "P_p1 - period for planet 1\n",
    "t0_p1 - transit middle time, Tc \n",
    "rho - stellar density, please note the unit! Should be in km/m3, not g/cm3 as in ExoFOP. \n",
    "\n",
    "The widths of these priors should be a bit larger (e.g., a factor of 2) than the error bars listed on ExoFOP to allow flexibility.\n",
    "\n",
    "\n",
    "### Again mind the file paths!\n",
    "\n",
    "After you've correctly set up the prior files, the codes below should just run smoothly (i.e., no more ??? for you to fill in - just read the code to get a feel of it). If not, you may want to check to see if your detrending is ok, or if you want to have better priors to help the model converge."
   ]
  },
  {
   "cell_type": "code",
   "execution_count": 408,
   "metadata": {},
   "outputs": [
    {
     "name": "stdout",
     "output_type": "stream",
     "text": [
      "PyMultinest installation not detected. Forcing dynesty as the sampler.\n"
     ]
    },
    {
     "ename": "ValueError",
     "evalue": "The log-likelihood (nan) of live point 0 located at u=[0.24741666 0.30197587 0.72377147 0.85918108 0.06399413 0.24121174\n 0.77751412 0.91172303 0.40588844] v=[3.98417425e+00 1.54319813e+03 7.23771471e-01 8.59181084e-01\n 6.39941333e-02 2.41211739e-01 6.54299352e+02 1.35144185e-01\n 4.20294540e+00]  is invalid.",
     "output_type": "error",
     "traceback": [
      "\u001b[0;31m---------------------------------------------------------------------------\u001b[0m",
      "\u001b[0;31mValueError\u001b[0m                                Traceback (most recent call last)",
      "\u001b[1;32m/Users/luke/Desktop/HW9-GroupActivities/G1-transit_fit/BONUS-transit_fit_example.ipynb Cell 24'\u001b[0m in \u001b[0;36m<cell line: 5>\u001b[0;34m()\u001b[0m\n\u001b[1;32m      <a href='vscode-notebook-cell:/Users/luke/Desktop/HW9-GroupActivities/G1-transit_fit/BONUS-transit_fit_example.ipynb#ch0000022?line=0'>1</a>\u001b[0m dataset \u001b[39m=\u001b[39m juliet\u001b[39m.\u001b[39mload(priors\u001b[39m=\u001b[39m\u001b[39m'\u001b[39m\u001b[39m./transit_fit_detrended/priors.txt\u001b[39m\u001b[39m'\u001b[39m, \\\n\u001b[1;32m      <a href='vscode-notebook-cell:/Users/luke/Desktop/HW9-GroupActivities/G1-transit_fit/BONUS-transit_fit_example.ipynb#ch0000022?line=1'>2</a>\u001b[0m                       t_lc \u001b[39m=\u001b[39m times, y_lc \u001b[39m=\u001b[39m fluxes, \\\n\u001b[1;32m      <a href='vscode-notebook-cell:/Users/luke/Desktop/HW9-GroupActivities/G1-transit_fit/BONUS-transit_fit_example.ipynb#ch0000022?line=2'>3</a>\u001b[0m                       yerr_lc \u001b[39m=\u001b[39m fluxes_error, out_folder \u001b[39m=\u001b[39m \u001b[39m'\u001b[39m\u001b[39m./transit_fit_detrended/\u001b[39m\u001b[39m'\u001b[39m)\n\u001b[0;32m----> <a href='vscode-notebook-cell:/Users/luke/Desktop/HW9-GroupActivities/G1-transit_fit/BONUS-transit_fit_example.ipynb#ch0000022?line=4'>5</a>\u001b[0m results \u001b[39m=\u001b[39m dataset\u001b[39m.\u001b[39;49mfit()\n",
      "File \u001b[0;32m~/miniforge3/envs/astro/lib/python3.8/site-packages/juliet/fit.py:742\u001b[0m, in \u001b[0;36mload.fit\u001b[0;34m(self, **kwargs)\u001b[0m\n\u001b[1;32m    <a href='file:///Users/luke/miniforge3/envs/astro/lib/python3.8/site-packages/juliet/fit.py?line=736'>737</a>\u001b[0m \u001b[39m\"\"\"\u001b[39;00m\n\u001b[1;32m    <a href='file:///Users/luke/miniforge3/envs/astro/lib/python3.8/site-packages/juliet/fit.py?line=737'>738</a>\u001b[0m \u001b[39mPerhaps the most important function of the juliet data object. This function fits your data using the nested \u001b[39;00m\n\u001b[1;32m    <a href='file:///Users/luke/miniforge3/envs/astro/lib/python3.8/site-packages/juliet/fit.py?line=738'>739</a>\u001b[0m \u001b[39msampler of choice. This returns a results object which contains all the posteriors information.\u001b[39;00m\n\u001b[1;32m    <a href='file:///Users/luke/miniforge3/envs/astro/lib/python3.8/site-packages/juliet/fit.py?line=739'>740</a>\u001b[0m \u001b[39m\"\"\"\u001b[39;00m\n\u001b[1;32m    <a href='file:///Users/luke/miniforge3/envs/astro/lib/python3.8/site-packages/juliet/fit.py?line=740'>741</a>\u001b[0m \u001b[39m# Note this return call creates a fit *object* with the current data object. The fit class definition is below.\u001b[39;00m\n\u001b[0;32m--> <a href='file:///Users/luke/miniforge3/envs/astro/lib/python3.8/site-packages/juliet/fit.py?line=741'>742</a>\u001b[0m \u001b[39mreturn\u001b[39;00m fit(\u001b[39mself\u001b[39;49m, \u001b[39m*\u001b[39;49m\u001b[39m*\u001b[39;49mkwargs)\n",
      "File \u001b[0;32m~/miniforge3/envs/astro/lib/python3.8/site-packages/juliet/fit.py:1453\u001b[0m, in \u001b[0;36mfit.__init__\u001b[0;34m(self, data, sampler, n_live_points, nwalkers, nsteps, nburnin, emcee_factor, ecclim, pl, pu, ta, nthreads, use_ultranest, use_dynesty, dynamic, dynesty_bound, dynesty_sample, dynesty_nthreads, dynesty_n_effective, dynesty_use_stop, dynesty_use_pool, **kwargs)\u001b[0m\n\u001b[1;32m   <a href='file:///Users/luke/miniforge3/envs/astro/lib/python3.8/site-packages/juliet/fit.py?line=1450'>1451</a>\u001b[0m         d_args[arg] \u001b[39m=\u001b[39m kwargs[arg]\n\u001b[1;32m   <a href='file:///Users/luke/miniforge3/envs/astro/lib/python3.8/site-packages/juliet/fit.py?line=1451'>1452</a>\u001b[0m \u001b[39m# Define the sampler:\u001b[39;00m\n\u001b[0;32m-> <a href='file:///Users/luke/miniforge3/envs/astro/lib/python3.8/site-packages/juliet/fit.py?line=1452'>1453</a>\u001b[0m sampler \u001b[39m=\u001b[39m DynestySampler(\u001b[39mself\u001b[39;49m\u001b[39m.\u001b[39;49mloglike, \u001b[39mself\u001b[39;49m\u001b[39m.\u001b[39;49mprior_transform_r, \u001b[39mself\u001b[39;49m\u001b[39m.\u001b[39;49mdata\u001b[39m.\u001b[39;49mnparams, \u001b[39m*\u001b[39;49m\u001b[39m*\u001b[39;49md_args)\n\u001b[1;32m   <a href='file:///Users/luke/miniforge3/envs/astro/lib/python3.8/site-packages/juliet/fit.py?line=1454'>1455</a>\u001b[0m \u001b[39m# Now do the same for the actual sampler:\u001b[39;00m\n\u001b[1;32m   <a href='file:///Users/luke/miniforge3/envs/astro/lib/python3.8/site-packages/juliet/fit.py?line=1455'>1456</a>\u001b[0m args \u001b[39m=\u001b[39m sampler\u001b[39m.\u001b[39mrun_nested\u001b[39m.\u001b[39m\u001b[39m__code__\u001b[39m\u001b[39m.\u001b[39mco_varnames\n",
      "File \u001b[0;32m~/miniforge3/envs/astro/lib/python3.8/site-packages/dynesty/dynesty.py:605\u001b[0m, in \u001b[0;36mNestedSampler\u001b[0;34m(loglikelihood, prior_transform, ndim, nlive, bound, sample, periodic, reflective, update_interval, first_update, npdim, rstate, queue_size, pool, use_pool, live_points, logl_args, logl_kwargs, ptform_args, ptform_kwargs, gradient, grad_args, grad_kwargs, compute_jac, enlarge, bootstrap, walks, facc, slices, fmove, max_move, update_func, ncdim, save_history, history_filename)\u001b[0m\n\u001b[1;32m    <a href='file:///Users/luke/miniforge3/envs/astro/lib/python3.8/site-packages/dynesty/dynesty.py?line=601'>602</a>\u001b[0m     kwargs[\u001b[39m'\u001b[39m\u001b[39mgrad\u001b[39m\u001b[39m'\u001b[39m] \u001b[39m=\u001b[39m grad\n\u001b[1;32m    <a href='file:///Users/luke/miniforge3/envs/astro/lib/python3.8/site-packages/dynesty/dynesty.py?line=602'>603</a>\u001b[0m     kwargs[\u001b[39m'\u001b[39m\u001b[39mcompute_jac\u001b[39m\u001b[39m'\u001b[39m] \u001b[39m=\u001b[39m compute_jac\n\u001b[0;32m--> <a href='file:///Users/luke/miniforge3/envs/astro/lib/python3.8/site-packages/dynesty/dynesty.py?line=604'>605</a>\u001b[0m live_points \u001b[39m=\u001b[39m initialize_live_points(live_points,\n\u001b[1;32m    <a href='file:///Users/luke/miniforge3/envs/astro/lib/python3.8/site-packages/dynesty/dynesty.py?line=605'>606</a>\u001b[0m                                      ptform,\n\u001b[1;32m    <a href='file:///Users/luke/miniforge3/envs/astro/lib/python3.8/site-packages/dynesty/dynesty.py?line=606'>607</a>\u001b[0m                                      loglike,\n\u001b[1;32m    <a href='file:///Users/luke/miniforge3/envs/astro/lib/python3.8/site-packages/dynesty/dynesty.py?line=607'>608</a>\u001b[0m                                      M,\n\u001b[1;32m    <a href='file:///Users/luke/miniforge3/envs/astro/lib/python3.8/site-packages/dynesty/dynesty.py?line=608'>609</a>\u001b[0m                                      nlive\u001b[39m=\u001b[39;49mnlive,\n\u001b[1;32m    <a href='file:///Users/luke/miniforge3/envs/astro/lib/python3.8/site-packages/dynesty/dynesty.py?line=609'>610</a>\u001b[0m                                      npdim\u001b[39m=\u001b[39;49mnpdim,\n\u001b[1;32m    <a href='file:///Users/luke/miniforge3/envs/astro/lib/python3.8/site-packages/dynesty/dynesty.py?line=610'>611</a>\u001b[0m                                      rstate\u001b[39m=\u001b[39;49mrstate,\n\u001b[1;32m    <a href='file:///Users/luke/miniforge3/envs/astro/lib/python3.8/site-packages/dynesty/dynesty.py?line=611'>612</a>\u001b[0m                                      use_pool_ptform\u001b[39m=\u001b[39;49muse_pool\u001b[39m.\u001b[39;49mget(\n\u001b[1;32m    <a href='file:///Users/luke/miniforge3/envs/astro/lib/python3.8/site-packages/dynesty/dynesty.py?line=612'>613</a>\u001b[0m                                          \u001b[39m'\u001b[39;49m\u001b[39mprior_transform\u001b[39;49m\u001b[39m'\u001b[39;49m, \u001b[39mTrue\u001b[39;49;00m))\n\u001b[1;32m    <a href='file:///Users/luke/miniforge3/envs/astro/lib/python3.8/site-packages/dynesty/dynesty.py?line=614'>615</a>\u001b[0m \u001b[39m# Initialize our nested sampler.\u001b[39;00m\n\u001b[1;32m    <a href='file:///Users/luke/miniforge3/envs/astro/lib/python3.8/site-packages/dynesty/dynesty.py?line=615'>616</a>\u001b[0m sampler \u001b[39m=\u001b[39m _SAMPLERS[bound](loglike,\n\u001b[1;32m    <a href='file:///Users/luke/miniforge3/envs/astro/lib/python3.8/site-packages/dynesty/dynesty.py?line=616'>617</a>\u001b[0m                            ptform,\n\u001b[1;32m    <a href='file:///Users/luke/miniforge3/envs/astro/lib/python3.8/site-packages/dynesty/dynesty.py?line=617'>618</a>\u001b[0m                            npdim,\n\u001b[0;32m   (...)\u001b[0m\n\u001b[1;32m    <a href='file:///Users/luke/miniforge3/envs/astro/lib/python3.8/site-packages/dynesty/dynesty.py?line=626'>627</a>\u001b[0m                            kwargs,\n\u001b[1;32m    <a href='file:///Users/luke/miniforge3/envs/astro/lib/python3.8/site-packages/dynesty/dynesty.py?line=627'>628</a>\u001b[0m                            ncdim\u001b[39m=\u001b[39mncdim)\n",
      "File \u001b[0;32m~/miniforge3/envs/astro/lib/python3.8/site-packages/dynesty/dynamicsampler.py:374\u001b[0m, in \u001b[0;36minitialize_live_points\u001b[0;34m(live_points, prior_transform, loglikelihood, M, nlive, npdim, rstate, use_pool_ptform)\u001b[0m\n\u001b[1;32m    <a href='file:///Users/luke/miniforge3/envs/astro/lib/python3.8/site-packages/dynesty/dynamicsampler.py?line=371'>372</a>\u001b[0m             live_logl[i] \u001b[39m=\u001b[39m _LOWL_VAL\n\u001b[1;32m    <a href='file:///Users/luke/miniforge3/envs/astro/lib/python3.8/site-packages/dynesty/dynamicsampler.py?line=372'>373</a>\u001b[0m         \u001b[39melse\u001b[39;00m:\n\u001b[0;32m--> <a href='file:///Users/luke/miniforge3/envs/astro/lib/python3.8/site-packages/dynesty/dynamicsampler.py?line=373'>374</a>\u001b[0m             \u001b[39mraise\u001b[39;00m \u001b[39mValueError\u001b[39;00m(\u001b[39m\"\u001b[39m\u001b[39mThe log-likelihood (\u001b[39m\u001b[39m{0}\u001b[39;00m\u001b[39m) of live \u001b[39m\u001b[39m\"\u001b[39m\n\u001b[1;32m    <a href='file:///Users/luke/miniforge3/envs/astro/lib/python3.8/site-packages/dynesty/dynamicsampler.py?line=374'>375</a>\u001b[0m                              \u001b[39m\"\u001b[39m\u001b[39mpoint \u001b[39m\u001b[39m{1}\u001b[39;00m\u001b[39m located at u=\u001b[39m\u001b[39m{2}\u001b[39;00m\u001b[39m v=\u001b[39m\u001b[39m{3}\u001b[39;00m\u001b[39m \u001b[39m\u001b[39m\"\u001b[39m\n\u001b[1;32m    <a href='file:///Users/luke/miniforge3/envs/astro/lib/python3.8/site-packages/dynesty/dynamicsampler.py?line=375'>376</a>\u001b[0m                              \u001b[39m\"\u001b[39m\u001b[39m is invalid.\u001b[39m\u001b[39m\"\u001b[39m\u001b[39m.\u001b[39mformat(\n\u001b[1;32m    <a href='file:///Users/luke/miniforge3/envs/astro/lib/python3.8/site-packages/dynesty/dynamicsampler.py?line=376'>377</a>\u001b[0m                                  logl, i, live_u[i], live_v[i]))\n\u001b[1;32m    <a href='file:///Users/luke/miniforge3/envs/astro/lib/python3.8/site-packages/dynesty/dynamicsampler.py?line=378'>379</a>\u001b[0m \u001b[39m# Check to make sure there is at least one finite\u001b[39;00m\n\u001b[1;32m    <a href='file:///Users/luke/miniforge3/envs/astro/lib/python3.8/site-packages/dynesty/dynamicsampler.py?line=379'>380</a>\u001b[0m \u001b[39m# log-likelihood value within the initial set of live\u001b[39;00m\n\u001b[1;32m    <a href='file:///Users/luke/miniforge3/envs/astro/lib/python3.8/site-packages/dynesty/dynamicsampler.py?line=380'>381</a>\u001b[0m \u001b[39m# points.\u001b[39;00m\n\u001b[1;32m    <a href='file:///Users/luke/miniforge3/envs/astro/lib/python3.8/site-packages/dynesty/dynamicsampler.py?line=381'>382</a>\u001b[0m \u001b[39mif\u001b[39;00m np\u001b[39m.\u001b[39many(live_logl \u001b[39m!=\u001b[39m _LOWL_VAL):\n",
      "\u001b[0;31mValueError\u001b[0m: The log-likelihood (nan) of live point 0 located at u=[0.24741666 0.30197587 0.72377147 0.85918108 0.06399413 0.24121174\n 0.77751412 0.91172303 0.40588844] v=[3.98417425e+00 1.54319813e+03 7.23771471e-01 8.59181084e-01\n 6.39941333e-02 2.41211739e-01 6.54299352e+02 1.35144185e-01\n 4.20294540e+00]  is invalid."
     ]
    }
   ],
   "source": [
    "dataset = juliet.load(priors='./transit_fit_detrended/priors.txt', \\\n",
    "                      t_lc = times, y_lc = fluxes, \\\n",
    "                      yerr_lc = fluxes_error, out_folder = './transit_fit_detrended/')\n",
    "\n",
    "results = dataset.fit()"
   ]
  },
  {
   "cell_type": "code",
   "execution_count": null,
   "metadata": {},
   "outputs": [
    {
     "ename": "",
     "evalue": "",
     "output_type": "error",
     "traceback": [
      "\u001b[1;31m无法启动 Jupyter。试图定位jupyter时出错：在解释器 Python 3.9.10 64-bit ('envs') 中没有安装数据科学库 jupyter 和 notebook。\n",
      "Run the following command to install 'jupyter 和 notebook' into the Python environment. \n",
      "Command: 'python -m pip install jupyter notebook -U\n",
      "or\n",
      "conda install jupyter notebook -U'\n",
      "Click <a href='https://aka.ms/installJupyterForVSCode'>here</a> for more info."
     ]
    },
    {
     "ename": "",
     "evalue": "",
     "output_type": "error",
     "traceback": [
      "\u001b[1;31m无法启动 Jupyter。试图定位jupyter时出错：在解释器 Python 3.9.10 64-bit ('envs') 中没有安装数据科学库 jupyter 和 notebook。\n",
      "Run the following command to install 'jupyter 和 notebook' into the Python environment. \n",
      "Command: 'python -m pip install jupyter notebook -U\n",
      "or\n",
      "conda install jupyter notebook -U'\n",
      "Click <a href='https://aka.ms/installJupyterForVSCode'>here</a> for more info."
     ]
    },
    {
     "ename": "",
     "evalue": "",
     "output_type": "error",
     "traceback": [
      "\u001b[1;31m无法启动 Jupyter。试图定位jupyter时出错：在解释器 Python 3.9.10 64-bit ('envs') 中没有安装数据科学库 jupyter 和 notebook。\n",
      "Run the following command to install 'jupyter 和 notebook' into the Python environment. \n",
      "Command: 'python -m pip install jupyter notebook -U\n",
      "or\n",
      "conda install jupyter notebook -U'\n",
      "Click <a href='https://aka.ms/installJupyterForVSCode'>here</a> for more info."
     ]
    },
    {
     "ename": "",
     "evalue": "",
     "output_type": "error",
     "traceback": [
      "\u001b[1;31m无法启动 Jupyter。试图定位jupyter时出错：在解释器 Python 3.9.10 64-bit ('envs') 中没有安装数据科学库 jupyter 和 notebook。\n",
      "Run the following command to install 'jupyter 和 notebook' into the Python environment. \n",
      "Command: 'python -m pip install jupyter notebook -U\n",
      "or\n",
      "conda install jupyter notebook -U'\n",
      "Click <a href='https://aka.ms/installJupyterForVSCode'>here</a> for more info."
     ]
    }
   ],
   "source": [
    "# Extract transit model prediction given the data:\n",
    "transit_model = results.lc.evaluate('TESS')\n",
    "\n",
    "# Plot results:\n",
    "fig = plt.figure(figsize=(10,4))\n",
    "gs = gridspec.GridSpec(1, 2, width_ratios=[2,1])\n",
    "ax1 = plt.subplot(gs[0])\n",
    "\n",
    "# Plot time v/s flux plot:\n",
    "ax1.errorbar(dataset.times_lc['TESS'], dataset.data_lc['TESS'], \\\n",
    "         yerr = dataset.errors_lc['TESS'], fmt = '.', alpha = 0.1)\n",
    "\n",
    "# now plot the model\n",
    "ax1.plot(dataset.times_lc['TESS'], transit_model,color='black',zorder=10)\n",
    "\n",
    "ax1.set_ylim([0.998,1.002])\n",
    "ax1.set_xlabel('Time (BJD - 2457000)')\n",
    "ax1.set_ylabel('Relative flux')\n",
    "\n",
    "# Now phased transit lightcurve:\n",
    "ax2 = plt.subplot(gs[1])\n",
    "ax2.errorbar(phases, dataset.data_lc['TESS'], \\\n",
    "             yerr = dataset.errors_lc['TESS'], fmt = '.', alpha = 0.1)\n",
    "idx = np.argsort(phases)\n",
    "ax2.plot(phases[idx],transit_model[idx], color='black',zorder=10)\n",
    "ax2.yaxis.set_major_formatter(plt.NullFormatter())\n",
    "ax2.set_xlim([-0.018,0.018])\n",
    "ax2.set_ylim([0.998,1.002])\n",
    "ax2.set_xlabel('Phases')"
   ]
  },
  {
   "cell_type": "markdown",
   "metadata": {},
   "source": [
    "## Produce posteriors for impact parameter b and planet-star radius ratio\n",
    "\n",
    "Juliet fits the transit parameters in a converted space, with no direct parameter on star-planet radius ratio, so we need to convert them. Please see the Juliet paper and documentation for more."
   ]
  },
  {
   "cell_type": "code",
   "execution_count": null,
   "metadata": {},
   "outputs": [
    {
     "ename": "",
     "evalue": "",
     "output_type": "error",
     "traceback": [
      "\u001b[1;31m无法启动 Jupyter。试图定位jupyter时出错：在解释器 Python 3.9.10 64-bit ('envs') 中没有安装数据科学库 jupyter 和 notebook。\n",
      "Run the following command to install 'jupyter 和 notebook' into the Python environment. \n",
      "Command: 'python -m pip install jupyter notebook -U\n",
      "or\n",
      "conda install jupyter notebook -U'\n",
      "Click <a href='https://aka.ms/installJupyterForVSCode'>here</a> for more info."
     ]
    },
    {
     "ename": "",
     "evalue": "",
     "output_type": "error",
     "traceback": [
      "\u001b[1;31m无法启动 Jupyter。试图定位jupyter时出错：在解释器 Python 3.9.10 64-bit ('envs') 中没有安装数据科学库 jupyter 和 notebook。\n",
      "Run the following command to install 'jupyter 和 notebook' into the Python environment. \n",
      "Command: 'python -m pip install jupyter notebook -U\n",
      "or\n",
      "conda install jupyter notebook -U'\n",
      "Click <a href='https://aka.ms/installJupyterForVSCode'>here</a> for more info."
     ]
    },
    {
     "ename": "",
     "evalue": "",
     "output_type": "error",
     "traceback": [
      "\u001b[1;31m无法启动 Jupyter。试图定位jupyter时出错：在解释器 Python 3.9.10 64-bit ('envs') 中没有安装数据科学库 jupyter 和 notebook。\n",
      "Run the following command to install 'jupyter 和 notebook' into the Python environment. \n",
      "Command: 'python -m pip install jupyter notebook -U\n",
      "or\n",
      "conda install jupyter notebook -U'\n",
      "Click <a href='https://aka.ms/installJupyterForVSCode'>here</a> for more info."
     ]
    },
    {
     "ename": "",
     "evalue": "",
     "output_type": "error",
     "traceback": [
      "\u001b[1;31m无法启动 Jupyter。试图定位jupyter时出错：在解释器 Python 3.9.10 64-bit ('envs') 中没有安装数据科学库 jupyter 和 notebook。\n",
      "Run the following command to install 'jupyter 和 notebook' into the Python environment. \n",
      "Command: 'python -m pip install jupyter notebook -U\n",
      "or\n",
      "conda install jupyter notebook -U'\n",
      "Click <a href='https://aka.ms/installJupyterForVSCode'>here</a> for more info."
     ]
    }
   ],
   "source": [
    "# unpack the pickle file\n",
    "infile = open('./transit_fit_detrended/posteriors.pkl','rb')\n",
    "posteriors = pickle.load(infile)\n",
    "infile.close()"
   ]
  },
  {
   "cell_type": "code",
   "execution_count": null,
   "metadata": {},
   "outputs": [
    {
     "ename": "",
     "evalue": "",
     "output_type": "error",
     "traceback": [
      "\u001b[1;31m无法启动 Jupyter。试图定位jupyter时出错：在解释器 Python 3.9.10 64-bit ('envs') 中没有安装数据科学库 jupyter 和 notebook。\n",
      "Run the following command to install 'jupyter 和 notebook' into the Python environment. \n",
      "Command: 'python -m pip install jupyter notebook -U\n",
      "or\n",
      "conda install jupyter notebook -U'\n",
      "Click <a href='https://aka.ms/installJupyterForVSCode'>here</a> for more info."
     ]
    },
    {
     "ename": "",
     "evalue": "",
     "output_type": "error",
     "traceback": [
      "\u001b[1;31m无法启动 Jupyter。试图定位jupyter时出错：在解释器 Python 3.9.10 64-bit ('envs') 中没有安装数据科学库 jupyter 和 notebook。\n",
      "Run the following command to install 'jupyter 和 notebook' into the Python environment. \n",
      "Command: 'python -m pip install jupyter notebook -U\n",
      "or\n",
      "conda install jupyter notebook -U'\n",
      "Click <a href='https://aka.ms/installJupyterForVSCode'>here</a> for more info."
     ]
    },
    {
     "ename": "",
     "evalue": "",
     "output_type": "error",
     "traceback": [
      "\u001b[1;31m无法启动 Jupyter。试图定位jupyter时出错：在解释器 Python 3.9.10 64-bit ('envs') 中没有安装数据科学库 jupyter 和 notebook。\n",
      "Run the following command to install 'jupyter 和 notebook' into the Python environment. \n",
      "Command: 'python -m pip install jupyter notebook -U\n",
      "or\n",
      "conda install jupyter notebook -U'\n",
      "Click <a href='https://aka.ms/installJupyterForVSCode'>here</a> for more info."
     ]
    },
    {
     "ename": "",
     "evalue": "",
     "output_type": "error",
     "traceback": [
      "\u001b[1;31m无法启动 Jupyter。试图定位jupyter时出错：在解释器 Python 3.9.10 64-bit ('envs') 中没有安装数据科学库 jupyter 和 notebook。\n",
      "Run the following command to install 'jupyter 和 notebook' into the Python environment. \n",
      "Command: 'python -m pip install jupyter notebook -U\n",
      "or\n",
      "conda install jupyter notebook -U'\n",
      "Click <a href='https://aka.ms/installJupyterForVSCode'>here</a> for more info."
     ]
    }
   ],
   "source": [
    "# extract r1 and r2\n",
    "r1, r2 = posteriors['posterior_samples']['r1_p1'],\\\n",
    "         posteriors['posterior_samples']['r2_p1']"
   ]
  },
  {
   "cell_type": "code",
   "execution_count": null,
   "metadata": {},
   "outputs": [
    {
     "ename": "",
     "evalue": "",
     "output_type": "error",
     "traceback": [
      "\u001b[1;31m无法启动 Jupyter。试图定位jupyter时出错：在解释器 Python 3.9.10 64-bit ('envs') 中没有安装数据科学库 jupyter 和 notebook。\n",
      "Run the following command to install 'jupyter 和 notebook' into the Python environment. \n",
      "Command: 'python -m pip install jupyter notebook -U\n",
      "or\n",
      "conda install jupyter notebook -U'\n",
      "Click <a href='https://aka.ms/installJupyterForVSCode'>here</a> for more info."
     ]
    },
    {
     "ename": "",
     "evalue": "",
     "output_type": "error",
     "traceback": [
      "\u001b[1;31m无法启动 Jupyter。试图定位jupyter时出错：在解释器 Python 3.9.10 64-bit ('envs') 中没有安装数据科学库 jupyter 和 notebook。\n",
      "Run the following command to install 'jupyter 和 notebook' into the Python environment. \n",
      "Command: 'python -m pip install jupyter notebook -U\n",
      "or\n",
      "conda install jupyter notebook -U'\n",
      "Click <a href='https://aka.ms/installJupyterForVSCode'>here</a> for more info."
     ]
    },
    {
     "ename": "",
     "evalue": "",
     "output_type": "error",
     "traceback": [
      "\u001b[1;31m无法启动 Jupyter。试图定位jupyter时出错：在解释器 Python 3.9.10 64-bit ('envs') 中没有安装数据科学库 jupyter 和 notebook。\n",
      "Run the following command to install 'jupyter 和 notebook' into the Python environment. \n",
      "Command: 'python -m pip install jupyter notebook -U\n",
      "or\n",
      "conda install jupyter notebook -U'\n",
      "Click <a href='https://aka.ms/installJupyterForVSCode'>here</a> for more info."
     ]
    },
    {
     "ename": "",
     "evalue": "",
     "output_type": "error",
     "traceback": [
      "\u001b[1;31m无法启动 Jupyter。试图定位jupyter时出错：在解释器 Python 3.9.10 64-bit ('envs') 中没有安装数据科学库 jupyter 和 notebook。\n",
      "Run the following command to install 'jupyter 和 notebook' into the Python environment. \n",
      "Command: 'python -m pip install jupyter notebook -U\n",
      "or\n",
      "conda install jupyter notebook -U'\n",
      "Click <a href='https://aka.ms/installJupyterForVSCode'>here</a> for more info."
     ]
    }
   ],
   "source": [
    "# Transform back to (b,p):\n",
    "b,p = juliet.utils.reverse_bp(r1, r2, 0., 1.)"
   ]
  },
  {
   "cell_type": "code",
   "execution_count": null,
   "metadata": {},
   "outputs": [
    {
     "ename": "",
     "evalue": "",
     "output_type": "error",
     "traceback": [
      "\u001b[1;31m无法启动 Jupyter。试图定位jupyter时出错：在解释器 Python 3.9.10 64-bit ('envs') 中没有安装数据科学库 jupyter 和 notebook。\n",
      "Run the following command to install 'jupyter 和 notebook' into the Python environment. \n",
      "Command: 'python -m pip install jupyter notebook -U\n",
      "or\n",
      "conda install jupyter notebook -U'\n",
      "Click <a href='https://aka.ms/installJupyterForVSCode'>here</a> for more info."
     ]
    },
    {
     "ename": "",
     "evalue": "",
     "output_type": "error",
     "traceback": [
      "\u001b[1;31m无法启动 Jupyter。试图定位jupyter时出错：在解释器 Python 3.9.10 64-bit ('envs') 中没有安装数据科学库 jupyter 和 notebook。\n",
      "Run the following command to install 'jupyter 和 notebook' into the Python environment. \n",
      "Command: 'python -m pip install jupyter notebook -U\n",
      "or\n",
      "conda install jupyter notebook -U'\n",
      "Click <a href='https://aka.ms/installJupyterForVSCode'>here</a> for more info."
     ]
    },
    {
     "ename": "",
     "evalue": "",
     "output_type": "error",
     "traceback": [
      "\u001b[1;31m无法启动 Jupyter。试图定位jupyter时出错：在解释器 Python 3.9.10 64-bit ('envs') 中没有安装数据科学库 jupyter 和 notebook。\n",
      "Run the following command to install 'jupyter 和 notebook' into the Python environment. \n",
      "Command: 'python -m pip install jupyter notebook -U\n",
      "or\n",
      "conda install jupyter notebook -U'\n",
      "Click <a href='https://aka.ms/installJupyterForVSCode'>here</a> for more info."
     ]
    },
    {
     "ename": "",
     "evalue": "",
     "output_type": "error",
     "traceback": [
      "\u001b[1;31m无法启动 Jupyter。试图定位jupyter时出错：在解释器 Python 3.9.10 64-bit ('envs') 中没有安装数据科学库 jupyter 和 notebook。\n",
      "Run the following command to install 'jupyter 和 notebook' into the Python environment. \n",
      "Command: 'python -m pip install jupyter notebook -U\n",
      "or\n",
      "conda install jupyter notebook -U'\n",
      "Click <a href='https://aka.ms/installJupyterForVSCode'>here</a> for more info."
     ]
    }
   ],
   "source": [
    "# Plot posterior distribution:\n",
    "plt.plot(b,p,'.',alpha=0.5)"
   ]
  },
  {
   "cell_type": "code",
   "execution_count": null,
   "metadata": {},
   "outputs": [
    {
     "ename": "",
     "evalue": "",
     "output_type": "error",
     "traceback": [
      "\u001b[1;31m无法启动 Jupyter。试图定位jupyter时出错：在解释器 Python 3.9.10 64-bit ('envs') 中没有安装数据科学库 jupyter 和 notebook。\n",
      "Run the following command to install 'jupyter 和 notebook' into the Python environment. \n",
      "Command: 'python -m pip install jupyter notebook -U\n",
      "or\n",
      "conda install jupyter notebook -U'\n",
      "Click <a href='https://aka.ms/installJupyterForVSCode'>here</a> for more info."
     ]
    },
    {
     "ename": "",
     "evalue": "",
     "output_type": "error",
     "traceback": [
      "\u001b[1;31m无法启动 Jupyter。试图定位jupyter时出错：在解释器 Python 3.9.10 64-bit ('envs') 中没有安装数据科学库 jupyter 和 notebook。\n",
      "Run the following command to install 'jupyter 和 notebook' into the Python environment. \n",
      "Command: 'python -m pip install jupyter notebook -U\n",
      "or\n",
      "conda install jupyter notebook -U'\n",
      "Click <a href='https://aka.ms/installJupyterForVSCode'>here</a> for more info."
     ]
    },
    {
     "ename": "",
     "evalue": "",
     "output_type": "error",
     "traceback": [
      "\u001b[1;31m无法启动 Jupyter。试图定位jupyter时出错：在解释器 Python 3.9.10 64-bit ('envs') 中没有安装数据科学库 jupyter 和 notebook。\n",
      "Run the following command to install 'jupyter 和 notebook' into the Python environment. \n",
      "Command: 'python -m pip install jupyter notebook -U\n",
      "or\n",
      "conda install jupyter notebook -U'\n",
      "Click <a href='https://aka.ms/installJupyterForVSCode'>here</a> for more info."
     ]
    },
    {
     "ename": "",
     "evalue": "",
     "output_type": "error",
     "traceback": [
      "\u001b[1;31m无法启动 Jupyter。试图定位jupyter时出错：在解释器 Python 3.9.10 64-bit ('envs') 中没有安装数据科学库 jupyter 和 notebook。\n",
      "Run the following command to install 'jupyter 和 notebook' into the Python environment. \n",
      "Command: 'python -m pip install jupyter notebook -U\n",
      "or\n",
      "conda install jupyter notebook -U'\n",
      "Click <a href='https://aka.ms/installJupyterForVSCode'>here</a> for more info."
     ]
    }
   ],
   "source": []
  },
  {
   "cell_type": "code",
   "execution_count": null,
   "metadata": {},
   "outputs": [
    {
     "ename": "",
     "evalue": "",
     "output_type": "error",
     "traceback": [
      "\u001b[1;31m无法启动 Jupyter。试图定位jupyter时出错：在解释器 Python 3.9.10 64-bit ('envs') 中没有安装数据科学库 jupyter 和 notebook。\n",
      "Run the following command to install 'jupyter 和 notebook' into the Python environment. \n",
      "Command: 'python -m pip install jupyter notebook -U\n",
      "or\n",
      "conda install jupyter notebook -U'\n",
      "Click <a href='https://aka.ms/installJupyterForVSCode'>here</a> for more info."
     ]
    },
    {
     "ename": "",
     "evalue": "",
     "output_type": "error",
     "traceback": [
      "\u001b[1;31m无法启动 Jupyter。试图定位jupyter时出错：在解释器 Python 3.9.10 64-bit ('envs') 中没有安装数据科学库 jupyter 和 notebook。\n",
      "Run the following command to install 'jupyter 和 notebook' into the Python environment. \n",
      "Command: 'python -m pip install jupyter notebook -U\n",
      "or\n",
      "conda install jupyter notebook -U'\n",
      "Click <a href='https://aka.ms/installJupyterForVSCode'>here</a> for more info."
     ]
    },
    {
     "ename": "",
     "evalue": "",
     "output_type": "error",
     "traceback": [
      "\u001b[1;31m无法启动 Jupyter。试图定位jupyter时出错：在解释器 Python 3.9.10 64-bit ('envs') 中没有安装数据科学库 jupyter 和 notebook。\n",
      "Run the following command to install 'jupyter 和 notebook' into the Python environment. \n",
      "Command: 'python -m pip install jupyter notebook -U\n",
      "or\n",
      "conda install jupyter notebook -U'\n",
      "Click <a href='https://aka.ms/installJupyterForVSCode'>here</a> for more info."
     ]
    },
    {
     "ename": "",
     "evalue": "",
     "output_type": "error",
     "traceback": [
      "\u001b[1;31m无法启动 Jupyter。试图定位jupyter时出错：在解释器 Python 3.9.10 64-bit ('envs') 中没有安装数据科学库 jupyter 和 notebook。\n",
      "Run the following command to install 'jupyter 和 notebook' into the Python environment. \n",
      "Command: 'python -m pip install jupyter notebook -U\n",
      "or\n",
      "conda install jupyter notebook -U'\n",
      "Click <a href='https://aka.ms/installJupyterForVSCode'>here</a> for more info."
     ]
    }
   ],
   "source": []
  },
  {
   "cell_type": "code",
   "execution_count": null,
   "metadata": {},
   "outputs": [
    {
     "ename": "",
     "evalue": "",
     "output_type": "error",
     "traceback": [
      "\u001b[1;31m无法启动 Jupyter。试图定位jupyter时出错：在解释器 Python 3.9.10 64-bit ('envs') 中没有安装数据科学库 jupyter 和 notebook。\n",
      "Run the following command to install 'jupyter 和 notebook' into the Python environment. \n",
      "Command: 'python -m pip install jupyter notebook -U\n",
      "or\n",
      "conda install jupyter notebook -U'\n",
      "Click <a href='https://aka.ms/installJupyterForVSCode'>here</a> for more info."
     ]
    },
    {
     "ename": "",
     "evalue": "",
     "output_type": "error",
     "traceback": [
      "\u001b[1;31m无法启动 Jupyter。试图定位jupyter时出错：在解释器 Python 3.9.10 64-bit ('envs') 中没有安装数据科学库 jupyter 和 notebook。\n",
      "Run the following command to install 'jupyter 和 notebook' into the Python environment. \n",
      "Command: 'python -m pip install jupyter notebook -U\n",
      "or\n",
      "conda install jupyter notebook -U'\n",
      "Click <a href='https://aka.ms/installJupyterForVSCode'>here</a> for more info."
     ]
    },
    {
     "ename": "",
     "evalue": "",
     "output_type": "error",
     "traceback": [
      "\u001b[1;31m无法启动 Jupyter。试图定位jupyter时出错：在解释器 Python 3.9.10 64-bit ('envs') 中没有安装数据科学库 jupyter 和 notebook。\n",
      "Run the following command to install 'jupyter 和 notebook' into the Python environment. \n",
      "Command: 'python -m pip install jupyter notebook -U\n",
      "or\n",
      "conda install jupyter notebook -U'\n",
      "Click <a href='https://aka.ms/installJupyterForVSCode'>here</a> for more info."
     ]
    },
    {
     "ename": "",
     "evalue": "",
     "output_type": "error",
     "traceback": [
      "\u001b[1;31m无法启动 Jupyter。试图定位jupyter时出错：在解释器 Python 3.9.10 64-bit ('envs') 中没有安装数据科学库 jupyter 和 notebook。\n",
      "Run the following command to install 'jupyter 和 notebook' into the Python environment. \n",
      "Command: 'python -m pip install jupyter notebook -U\n",
      "or\n",
      "conda install jupyter notebook -U'\n",
      "Click <a href='https://aka.ms/installJupyterForVSCode'>here</a> for more info."
     ]
    }
   ],
   "source": []
  }
 ],
 "metadata": {
  "interpreter": {
   "hash": "5b961726f24694b6f17f740f2c5030ec25616772daf73a312ff6748a00a3f54b"
  },
  "kernelspec": {
   "display_name": "Python 3.8.12 ('astro')",
   "language": "python",
   "name": "python3"
  },
  "language_info": {
   "codemirror_mode": {
    "name": "ipython",
    "version": 3
   },
   "file_extension": ".py",
   "mimetype": "text/x-python",
   "name": "python",
   "nbconvert_exporter": "python",
   "pygments_lexer": "ipython3",
   "version": "3.8.12"
  }
 },
 "nbformat": 4,
 "nbformat_minor": 2
}
